{
 "cells": [
  {
   "cell_type": "code",
   "execution_count": 1,
   "metadata": {},
   "outputs": [
    {
     "name": "stderr",
     "output_type": "stream",
     "text": [
      "/home/joaomorado/opt/micromamba/envs/emle-bespoke/lib/python3.12/site-packages/e3nn/o3/_wigner.py:10: FutureWarning: You are using `torch.load` with `weights_only=False` (the current default value), which uses the default pickle module implicitly. It is possible to construct malicious pickle data which will execute arbitrary code during unpickling (See https://github.com/pytorch/pytorch/blob/main/SECURITY.md#untrusted-models for more details). In a future release, the default value for `weights_only` will be flipped to `True`. This limits the functions that could be executed during unpickling. Arbitrary objects will no longer be allowed to be loaded via this mode unless they are explicitly allowlisted by the user via `torch.serialization.add_safe_globals`. We recommend you start setting `weights_only=True` for any use case where you don't have full control of the loaded file. Please open an issue on GitHub for any issues related to this experimental feature.\n",
      "  _Jd, _W3j_flat, _W3j_indices = torch.load(os.path.join(os.path.dirname(__file__), 'constants.pt'))\n"
     ]
    }
   ],
   "source": [
    "from emle.models import EMLE\n",
    "from emle_bespoke._constants import HARTREE_TO_KJ_MOL\n",
    "import pickle as pkl"
   ]
  },
  {
   "cell_type": "code",
   "execution_count": 2,
   "metadata": {},
   "outputs": [
    {
     "data": {
      "text/plain": [
       "dict_keys(['z', 'xyz_qm', 's', 'mu', 'q_core', 'q_val', 'alpha', 'xyz_mm', 'charges_mm', 'e_static', 'e_ind'])"
      ]
     },
     "execution_count": 2,
     "metadata": {},
     "output_type": "execute_result"
    }
   ],
   "source": [
    "with open('n-pentane_ref_data.pkl', 'rb') as f:\n",
    "    data = pkl.load(f)\n",
    "\n",
    "data.keys()"
   ]
  },
  {
   "cell_type": "code",
   "execution_count": null,
   "metadata": {},
   "outputs": [
    {
     "name": "stdout",
     "output_type": "stream",
     "text": [
      "Device: cuda:0\n",
      "Data type: torch.float64\n",
      "/home/joaomorado/opt/micromamba/envs/emle-bespoke/lib/python3.12/site-packages/torchani/resources/\n"
     ]
    }
   ],
   "source": [
    "device = data[\"z\"][0].device\n",
    "dtype = data[\"xyz_mm\"][0].dtype\n",
    "\n",
    "print(\"Device:\", device)\n",
    "print(\"Data type:\", dtype)\n",
    "\n",
    "emle_model = EMLE(device=device, dtype=dtype)"
   ]
  },
  {
   "cell_type": "code",
   "execution_count": null,
   "metadata": {},
   "outputs": [],
   "source": [
    "# calc = EMLECalculator(device=\"cuda\", backend=None)\n",
    "\n",
    "e_static_emle = []\n",
    "e_ind_emle = [] \n",
    "for i in range(len(data[\"z\"])):   \n",
    "    # en = calc._sire_callback(data[\"z\"][i].cpu(), data[\"charges_mm\"][i].cpu(), data[\"xyz_qm\"][i].cpu(), data[\"xyz_mm\"][i].cpu())\n",
    "    e_static, e_ind = emle_model.forward(data[\"z\"][i], data[\"charges_mm\"][i], data[\"xyz_qm\"][i], data[\"xyz_mm\"][i])\n",
    "    e_static_emle.append(e_static * HARTREE_TO_KJ_MOL)\n",
    "    e_ind_emle.append(e_ind * HARTREE_TO_KJ_MOL)\n",
    "    # print(en[0] - (e_static_emle[-1].item() + e_ind_emle[-1].item()))"
   ]
  },
  {
   "cell_type": "code",
   "execution_count": null,
   "metadata": {},
   "outputs": [],
   "source": [
    "import matplotlib.pyplot as plt\n",
    "import numpy as np\n",
    "import seaborn as sns\n",
    "from sklearn.metrics import mean_squared_error, r2_score\n",
    "from math import sqrt\n",
    "\n",
    "# Set Seaborn style for better aesthetics\n",
    "sns.set(style=\"whitegrid\")\n",
    "\n",
    "# Example data (replace with your actual data)\n",
    "e_static = np.array([x.item() for x in data[\"e_static\"]])\n",
    "e_ind = np.array([x.item() for x in data[\"e_ind\"]])\n",
    "e_static_emle = np.array([x.item() for x in e_static_emle])\n",
    "e_ind_emle = np.array([x.item() for x in e_ind_emle])\n",
    "\n",
    "# Create the figure and axes for 3 subplots\n",
    "fig, axes = plt.subplots(1, 3, figsize=(18, 6))\n",
    "\n",
    "# Define the x values for the plot (reference line)\n",
    "x = np.linspace(-1000, 1000, 100)\n",
    "y = x\n",
    "\n",
    "# Function to compute RMSE, MSE, and R^2\n",
    "def compute_metrics(true_values, predicted_values):\n",
    "    mse = mean_squared_error(true_values, predicted_values)\n",
    "    rmse = sqrt(mse)\n",
    "    r2 = r2_score(true_values, predicted_values)\n",
    "    return rmse, mse, r2\n",
    "\n",
    "# Set limits for all subplots and plot reference line\n",
    "xmin, xmax = -20, 20\n",
    "ymin, ymax = -20, 20\n",
    "for ax in axes:\n",
    "    ax.set_xlim(xmin, xmax)\n",
    "    ax.set_ylim(ymin, ymax)\n",
    "    ax.plot(x, y, 'k--', label=\"Reference Line\")\n",
    "\n",
    "# Static subplot\n",
    "rmse_static, mse_static, r2_static = compute_metrics(e_static, e_static_emle)\n",
    "axes[0].plot(e_static_emle, e_static, 'bo', label=\"Static\")\n",
    "axes[0].set_xlabel(\"$E_{\\mathrm{EMLE}}$ / kJ.mol$^{-1}$\")\n",
    "axes[0].set_ylabel(\"$E_{\\mathrm{QM}}$ / kJ.mol$^{-1}$\")\n",
    "axes[0].set_title(\"Static Interaction\")\n",
    "# axes[0].legend()\n",
    "\n",
    "# Display RMSE, MSE, R^2 on the Static plot\n",
    "axes[0].text(0.05, 0.95, f\"RMSE: {rmse_static:.2f}\\nMSE: {mse_static:.2f}\\nR²: {r2_static:.2f}\", \n",
    "             transform=axes[0].transAxes, fontsize=12, verticalalignment='top', horizontalalignment='left',\n",
    "             bbox=dict(facecolor='white', edgecolor='black', boxstyle='round,pad=0.3'))\n",
    "\n",
    "# Induction subplot\n",
    "rmse_ind, mse_ind, r2_ind = compute_metrics(e_ind, e_ind_emle)\n",
    "axes[1].plot(e_ind_emle, e_ind, 'go', label=\"Induction\")\n",
    "axes[1].set_xlabel(\"$E_{\\mathrm{EMLE}}$ / kJ.mol$^{-1}$\")\n",
    "axes[1].set_ylabel(\"$E_{\\mathrm{QM}}$ / kJ.mol$^{-1}$\")\n",
    "axes[1].set_title(\"Induction Interaction\")\n",
    "# axes[1].legend()\n",
    "\n",
    "# Display RMSE, MSE, R^2 on the Induction plot\n",
    "axes[1].text(0.05, 0.95, f\"RMSE: {rmse_ind:.2f}\\nMSE: {mse_ind:.2f}\\nR²: {r2_ind:.2f}\", \n",
    "             transform=axes[1].transAxes, fontsize=12, verticalalignment='top', horizontalalignment='left',\n",
    "             bbox=dict(facecolor='white', edgecolor='black', boxstyle='round,pad=0.3'))\n",
    "\n",
    "# Total subplot\n",
    "rmse_total, mse_total, r2_total = compute_metrics(e_static + e_ind, e_static_emle + e_ind_emle)\n",
    "axes[2].plot(e_static_emle + e_ind_emle, e_static + e_ind, 'ro', label=\"Total\")\n",
    "axes[2].set_xlabel(\"$E_{\\mathrm{EMLE}}$ / kJ.mol$^{-1}$\")\n",
    "axes[2].set_ylabel(\"$E_{\\mathrm{QM}}$ / kJ.mol$^{-1}$\")\n",
    "axes[2].set_title(\"Total Interaction\")\n",
    "# axes[2].legend()\n",
    "\n",
    "# Display RMSE, MSE, R^2 on the Total plot\n",
    "axes[2].text(0.05, 0.95, f\"RMSE: {rmse_total:.2f}\\nMSE: {mse_total:.2f}\\nR²: {r2_total:.2f}\", \n",
    "             transform=axes[2].transAxes, fontsize=12, verticalalignment='top', horizontalalignment='left',\n",
    "             bbox=dict(facecolor='white', edgecolor='black', boxstyle='round,pad=0.3'))\n",
    "\n",
    "# Adjust the layout for better spacing between subplots\n",
    "plt.tight_layout()\n",
    "\n",
    "# Show the plot\n",
    "plt.show()\n"
   ]
  }
 ],
 "metadata": {
  "kernelspec": {
   "display_name": "Python 3",
   "language": "python",
   "name": "python3"
  },
  "language_info": {
   "codemirror_mode": {
    "name": "ipython",
    "version": 3
   },
   "file_extension": ".py",
   "mimetype": "text/x-python",
   "name": "python",
   "nbconvert_exporter": "python",
   "pygments_lexer": "ipython3",
   "version": "3.12.7"
  }
 },
 "nbformat": 4,
 "nbformat_minor": 2
}
