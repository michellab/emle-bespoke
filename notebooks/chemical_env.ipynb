{
 "cells": [
  {
   "cell_type": "code",
   "execution_count": 18,
   "metadata": {},
   "outputs": [],
   "source": [
    "from rdkit import Chem\n",
    "from collections import defaultdict"
   ]
  },
  {
   "cell_type": "code",
   "execution_count": 19,
   "metadata": {},
   "outputs": [
    {
     "data": {
      "image/png": "[encoded data removed]",
      "text/plain": [
       "<rdkit.Chem.rdchem.Mol at 0x76bce8c118c0>"
      ]
     },
     "execution_count": 19,
     "metadata": {},
     "output_type": "execute_result"
    }
   ],
   "source": [
    "# Create the molecule from SMILES\n",
    "mol = Chem.MolFromSmiles(\"CC(C)=O\")\n",
    "\n",
    "# Add hydrogen atoms\n",
    "mol_h = Chem.AddHs(mol)\n",
    "\n",
    "# Iterate over the atoms\n",
    "for atom in mol_h.GetAtoms():\n",
    "    # For each atom, set the property \"atomNote\" to a index+1 of the atom\n",
    "    atom.SetProp(\"atomNote\", str(atom.GetIdx()))\n",
    "\n",
    "mol_h"
   ]
  },
  {
   "cell_type": "code",
   "execution_count": 28,
   "metadata": {},
   "outputs": [
    {
     "name": "stdout",
     "output_type": "stream",
     "text": [
      "{((1, 'H'), (1, 'H'), (1, 'H'), (6, 'C'), (6, 'C')): [0, 2], ((6, 'C'), (6, 'C'), (6, 'C'), (8, 'O')): [1], ((6, 'C'), (8, 'O')): [3], ((1, 'H'), (6, 'C')): [4, 5, 6, 7, 8, 9]}\n",
      "[0, 1, 3, 4]\n"
     ]
    }
   ],
   "source": [
    "# Initialize the atom_envs dictionary to store atoms under their environments\n",
    "atom_envs = {}\n",
    "\n",
    "# Iterate over all atoms and capture their environments\n",
    "for i, atom in enumerate(mol_h.GetAtoms()):\n",
    "    # Get the atom's neighbors\n",
    "    atom_neighbors = []\n",
    "    for neighbor in atom.GetNeighbors():\n",
    "        atom_neighbors.append((neighbor.GetAtomicNum(), neighbor.GetSymbol()))\n",
    "\n",
    "    # Include the atom's own atomic number and symbol as part of the environment\n",
    "    atom_env = tuple(sorted(atom_neighbors + [(atom.GetAtomicNum(), atom.GetSymbol())]))\n",
    "\n",
    "    # Store the atom's index under its environment\n",
    "    if atom_env not in atom_envs:\n",
    "        atom_envs[atom_env] = []\n",
    "    atom_envs[atom_env].append(atom.GetIdx())\n",
    "\n",
    "\n",
    "print(atom_envs)\n",
    "\n",
    "unique_env_atoms = [atom_envs[atom_env][0] for atom_env in atom_envs]\n",
    "print(unique_env_atoms)"
   ]
  },
  {
   "cell_type": "code",
   "execution_count": null,
   "metadata": {},
   "outputs": [],
   "source": []
  }
 ],
 "metadata": {
  "kernelspec": {
   "display_name": "Python 3",
   "language": "python",
   "name": "python3"
  },
  "language_info": {
   "codemirror_mode": {
    "name": "ipython",
    "version": 3
   },
   "file_extension": ".py",
   "mimetype": "text/x-python",
   "name": "python",
   "nbconvert_exporter": "python",
   "pygments_lexer": "ipython3",
   "version": "3.12.7"
  }
 },
 "nbformat": 4,
 "nbformat_minor": 2
}
